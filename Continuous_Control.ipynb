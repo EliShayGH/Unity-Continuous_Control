{
 "cells": [
  {
   "cell_type": "markdown",
   "metadata": {},
   "source": [
    "# Continuous Control\n",
    "\n",
    "---\n",
    "\n",
    "In this notebook, you will learn how to use the Unity ML-Agents environment for the second project of the [Deep Reinforcement Learning Nanodegree](https://www.udacity.com/course/deep-reinforcement-learning-nanodegree--nd893) program.\n",
    "\n",
    "### 1. Start the Environment\n",
    "\n",
    "We begin by importing the necessary packages.  If the code cell below returns an error, please revisit the project instructions to double-check that you have installed [Unity ML-Agents](https://github.com/Unity-Technologies/ml-agents/blob/master/docs/Installation.md) and [NumPy](http://www.numpy.org/)."
   ]
  },
  {
   "cell_type": "code",
   "execution_count": 1,
   "metadata": {},
   "outputs": [
    {
     "name": "stdout",
     "output_type": "stream",
     "text": [
      "\u001b[31mtensorflow 1.7.1 has requirement numpy>=1.13.3, but you'll have numpy 1.12.1 which is incompatible.\u001b[0m\r\n",
      "\u001b[31mipython 6.5.0 has requirement prompt-toolkit<2.0.0,>=1.0.15, but you'll have prompt-toolkit 2.0.10 which is incompatible.\u001b[0m\r\n"
     ]
    }
   ],
   "source": [
    "!pip -q install ./python\n",
    "\n",
    "import matplotlib.pyplot as plt\n",
    "%matplotlib inline\n",
    "\n",
    "import numpy as np\n",
    "import random\n",
    "import time\n",
    "import torch\n",
    "\n",
    "from collections import deque\n",
    "from ddpg_agent import Agent\n",
    "from unityagents import UnityEnvironment"
   ]
  },
  {
   "cell_type": "code",
   "execution_count": 2,
   "metadata": {},
   "outputs": [],
   "source": [
    "SEED = 5 # Enter seed value"
   ]
  },
  {
   "cell_type": "markdown",
   "metadata": {},
   "source": [
    "Next, we will start the environment!  **_Before running the code cell below_**, change the `file_name` parameter to match the location of the Unity environment that you downloaded.\n",
    "\n",
    "- **Mac**: `\"path/to/Reacher.app\"`\n",
    "- **Windows** (x86): `\"path/to/Reacher_Windows_x86/Reacher.exe\"`\n",
    "- **Windows** (x86_64): `\"path/to/Reacher_Windows_x86_64/Reacher.exe\"`\n",
    "- **Linux** (x86): `\"path/to/Reacher_Linux/Reacher.x86\"`\n",
    "- **Linux** (x86_64): `\"path/to/Reacher_Linux/Reacher.x86_64\"`\n",
    "- **Linux** (x86, headless): `\"path/to/Reacher_Linux_NoVis/Reacher.x86\"`\n",
    "- **Linux** (x86_64, headless): `\"path/to/Reacher_Linux_NoVis/Reacher.x86_64\"`\n",
    "\n",
    "For instance, if you are using a Mac, then you downloaded `Reacher.app`.  If this file is in the same folder as the notebook, then the line below should appear as follows:\n",
    "```\n",
    "env = UnityEnvironment(file_name=\"Reacher.app\")\n",
    "```"
   ]
  },
  {
   "cell_type": "code",
   "execution_count": 3,
   "metadata": {},
   "outputs": [
    {
     "name": "stderr",
     "output_type": "stream",
     "text": [
      "INFO:unityagents:\n",
      "'Academy' started successfully!\n",
      "Unity Academy name: Academy\n",
      "        Number of Brains: 1\n",
      "        Number of External Brains : 1\n",
      "        Lesson number : 0\n",
      "        Reset Parameters :\n",
      "\t\tgoal_size -> 5.0\n",
      "\t\tgoal_speed -> 1.0\n",
      "Unity brain name: ReacherBrain\n",
      "        Number of Visual Observations (per agent): 0\n",
      "        Vector Observation space type: continuous\n",
      "        Vector Observation space size (per agent): 33\n",
      "        Number of stacked Vector Observation: 1\n",
      "        Vector Action space type: continuous\n",
      "        Vector Action space size (per agent): 4\n",
      "        Vector Action descriptions: , , , \n"
     ]
    }
   ],
   "source": [
    "# select this option to load version 2 (with 20 agents) of the environment\n",
    "env = UnityEnvironment(file_name='/data/Reacher_Linux_NoVis/Reacher.x86_64')\n",
    "#env = UnityEnvironment(file_name='/data/Reacher_One_Linux_NoVis/Reacher_One_Linux_NoVis.x86_64')"
   ]
  },
  {
   "cell_type": "markdown",
   "metadata": {},
   "source": [
    "Environments contain **_brains_** which are responsible for deciding the actions of their associated agents. Here we check for the first brain available, and set it as the default brain we will be controlling from Python."
   ]
  },
  {
   "cell_type": "code",
   "execution_count": 4,
   "metadata": {},
   "outputs": [],
   "source": [
    "# get the default brain\n",
    "brain_name = env.brain_names[0]\n",
    "brain = env.brains[brain_name]"
   ]
  },
  {
   "cell_type": "markdown",
   "metadata": {},
   "source": [
    "### 2. Examine the State and Action Spaces\n",
    "\n",
    "In this environment, a double-jointed arm can move to target locations. A reward of `+0.1` is provided for each step that the agent's hand is in the goal location. Thus, the goal of your agent is to maintain its position at the target location for as many time steps as possible.\n",
    "\n",
    "The observation space consists of `33` variables corresponding to position, rotation, velocity, and angular velocities of the arm.  Each action is a vector with four numbers, corresponding to torque applicable to two joints.  Every entry in the action vector must be a number between `-1` and `1`.\n",
    "\n",
    "Run the code cell below to print some information about the environment."
   ]
  },
  {
   "cell_type": "code",
   "execution_count": 8,
   "metadata": {},
   "outputs": [
    {
     "name": "stdout",
     "output_type": "stream",
     "text": [
      "Number of agents: 20\n",
      "Size of each action: 4\n",
      "There are 20 agents. Each observes a state with length: 33\n"
     ]
    }
   ],
   "source": [
    "# reset the environment\n",
    "env_info = env.reset(train_mode=True)[brain_name]\n",
    "\n",
    "# number of agents\n",
    "num_agents = len(env_info.agents)\n",
    "print('Number of agents:', num_agents)\n",
    "\n",
    "# size of each action\n",
    "action_size = brain.vector_action_space_size\n",
    "print('Size of each action:', action_size)\n",
    "\n",
    "# examine the state space \n",
    "states = env_info.vector_observations\n",
    "state_size = states.shape[1]\n",
    "print('There are {} agents. Each observes a state with length: {}'.format(states.shape[0], state_size))\n",
    "# print('The state for the first agent looks like:', states[0])"
   ]
  },
  {
   "cell_type": "markdown",
   "metadata": {},
   "source": [
    "### 3. Take Random Actions in the Environment\n",
    "\n",
    "In the next code cell, you will learn how to use the Python API to control the agent and receive feedback from the environment.\n",
    "\n",
    "Once this cell is executed, you will watch the agent's performance, if it selects an action at random with each time step.  A window should pop up that allows you to observe the agent, as it moves through the environment.  \n",
    "\n",
    "Of course, as part of the project, you'll have to change the code so that the agent is able to use its experience to gradually choose better actions when interacting with the environment!"
   ]
  },
  {
   "cell_type": "code",
   "execution_count": 6,
   "metadata": {},
   "outputs": [
    {
     "name": "stdout",
     "output_type": "stream",
     "text": [
      "Total score (averaged over agents) this episode: 0.16249999636784196\n"
     ]
    }
   ],
   "source": [
    "env_info = env.reset(train_mode=False)[brain_name]     # reset the environment    \n",
    "states = env_info.vector_observations                  # get the current state (for each agent)\n",
    "scores = np.zeros(num_agents)                          # initialize the score (for each agent)\n",
    "while True:\n",
    "    actions = np.random.randn(num_agents, action_size) # select an action (for each agent)\n",
    "    actions = np.clip(actions, -1, 1)                  # all actions between -1 and 1\n",
    "    env_info = env.step(actions)[brain_name]           # send all actions to tne environment\n",
    "    next_states = env_info.vector_observations         # get next state (for each agent)\n",
    "    rewards = env_info.rewards                         # get reward (for each agent)\n",
    "    dones = env_info.local_done                        # see if episode finished\n",
    "    scores += env_info.rewards                         # update the score (for each agent)\n",
    "    states = next_states                               # roll over states to next time step\n",
    "    if np.any(dones):                                  # exit loop if episode finished\n",
    "        break\n",
    "\n",
    "print('Total score (averaged over agents) this episode: {}'.format(np.mean(scores)))"
   ]
  },
  {
   "cell_type": "markdown",
   "metadata": {},
   "source": [
    "When finished, you can close the environment."
   ]
  },
  {
   "cell_type": "raw",
   "metadata": {},
   "source": [
    "# env.close()"
   ]
  },
  {
   "cell_type": "markdown",
   "metadata": {},
   "source": [
    "### 4. It's Your Turn!\n",
    "\n",
    "Now it's your turn to train your own agent to solve the environment!  When training the environment, set `train_mode=True`, so that the line for resetting the environment looks like the following:\n",
    "```python\n",
    "env_info = env.reset(train_mode=True)[brain_name]\n",
    "```"
   ]
  },
  {
   "cell_type": "markdown",
   "metadata": {},
   "source": [
    "# Start of BASELINE Run"
   ]
  },
  {
   "cell_type": "code",
   "execution_count": 7,
   "metadata": {},
   "outputs": [],
   "source": [
    "# DDPG function\n",
    "\n",
    "def ddpg(n_episodes=1000, max_t=1000, print_every=1): # Enter max_t value\n",
    "    \"\"\"Deep Deterministic Policy Gradient (DDPG)\n",
    "    \n",
    "    Params\n",
    "    ======\n",
    "        n_episodes  (int)   : maximum number of training episodes\n",
    "        max_t       (int)   : maximum number of timesteps per episode\n",
    "        print_every (int)   : interval to display results\n",
    "\n",
    "    \"\"\"\n",
    "    mean_scores = []                               # list of mean scores from each episode\n",
    "    moving_avgs = []                               # list of moving averages\n",
    "    best_score  = -np.inf\n",
    "    scores_window = deque(maxlen=100)              # mean scores from most recent 100 episodes\n",
    "    \n",
    "    for i_episode in range(1, n_episodes+1):\n",
    "        env_info = env.reset(train_mode=True)[brain_name]       # (1) reset environment\n",
    "        states = env_info.vector_observations                  # (2) get current state for each agent      \n",
    "        scores = np.zeros(num_agents)                           # initialize score for each agent\n",
    "        agent.reset()\n",
    "        start_time = time.time()\n",
    "        for t in range(max_t):\n",
    "            actions = agent.act(states, add_noise=True)         # select an action\n",
    "            env_info = env.step(actions)[brain_name]                     # (3) send actions to environment\n",
    "            next_states = env_info.vector_observations                          # (4) get next state\n",
    "            rewards = env_info.rewards                             # (5) get reward\n",
    "            dones = env_info.local_done                          # (6_ see if episode has finished\n",
    "            # save experience to replay buffer, perform learning step at defined interval\n",
    "            for state, action, reward, next_state, done in zip(states, actions, rewards, next_states, dones):\n",
    "                agent.step(state, action, reward, next_state, done, t)             \n",
    "            states = next_states\n",
    "            scores += rewards        \n",
    "            if np.any(dones):                                   # exit loop when episode ends\n",
    "                break\n",
    "\n",
    "        duration = time.time() - start_time\n",
    "        mean_scores.append(np.mean(scores))           # save mean score for the episode\n",
    "        scores_window.append(mean_scores[-1])         # save mean score to window\n",
    "        moving_avgs.append(np.mean(scores_window))    # save moving average\n",
    "                \n",
    "        if i_episode % print_every == 0:\n",
    "            print('\\rEpisode {} ({}s)\\tMean: {:.1f}\\tMoving Avg: {:.1f}'.format(\\\n",
    "                  i_episode, round(duration), mean_scores[-1], moving_avgs[-1]))\n",
    "                  \n",
    "        if moving_avgs[-1] >= 30.0 and i_episode >= 100:\n",
    "            print('\\nEnvironment solved in {:d} episodes!\\tAverage Score: {:.2f}'.format(i_episode-100, moving_avgs[-1]))            \n",
    "            break\n",
    "            \n",
    "    return mean_scores, moving_avgs"
   ]
  },
  {
   "cell_type": "code",
   "execution_count": 8,
   "metadata": {},
   "outputs": [],
   "source": [
    "start = time.time()"
   ]
  },
  {
   "cell_type": "code",
   "execution_count": null,
   "metadata": {},
   "outputs": [
    {
     "name": "stdout",
     "output_type": "stream",
     "text": [
      "Episode 1 (223s)\tMean: 1.0\tMoving Avg: 1.0\n",
      "Episode 2 (225s)\tMean: 1.8\tMoving Avg: 1.4\n",
      "Episode 3 (232s)\tMean: 2.2\tMoving Avg: 1.7\n",
      "Episode 4 (243s)\tMean: 2.5\tMoving Avg: 1.9\n",
      "Episode 5 (248s)\tMean: 2.3\tMoving Avg: 2.0\n",
      "Episode 6 (243s)\tMean: 3.5\tMoving Avg: 2.2\n",
      "Episode 7 (235s)\tMean: 4.6\tMoving Avg: 2.5\n",
      "Episode 8 (246s)\tMean: 6.2\tMoving Avg: 3.0\n",
      "Episode 9 (243s)\tMean: 7.7\tMoving Avg: 3.5\n",
      "Episode 10 (244s)\tMean: 7.5\tMoving Avg: 3.9\n",
      "Episode 11 (246s)\tMean: 8.4\tMoving Avg: 4.3\n",
      "Episode 12 (248s)\tMean: 8.9\tMoving Avg: 4.7\n",
      "Episode 13 (253s)\tMean: 11.3\tMoving Avg: 5.2\n",
      "Episode 14 (256s)\tMean: 11.6\tMoving Avg: 5.7\n",
      "Episode 15 (257s)\tMean: 12.3\tMoving Avg: 6.1\n",
      "Episode 16 (266s)\tMean: 12.8\tMoving Avg: 6.5\n",
      "Episode 17 (265s)\tMean: 10.6\tMoving Avg: 6.8\n",
      "Episode 18 (270s)\tMean: 13.2\tMoving Avg: 7.1\n",
      "Episode 19 (262s)\tMean: 11.1\tMoving Avg: 7.3\n",
      "Episode 20 (264s)\tMean: 13.2\tMoving Avg: 7.6\n",
      "Episode 21 (269s)\tMean: 11.4\tMoving Avg: 7.8\n",
      "Episode 22 (273s)\tMean: 13.7\tMoving Avg: 8.1\n",
      "Episode 23 (279s)\tMean: 12.5\tMoving Avg: 8.3\n",
      "Episode 24 (279s)\tMean: 11.6\tMoving Avg: 8.4\n",
      "Episode 25 (295s)\tMean: 13.5\tMoving Avg: 8.6\n",
      "Episode 26 (293s)\tMean: 14.5\tMoving Avg: 8.8\n",
      "Episode 27 (303s)\tMean: 13.1\tMoving Avg: 9.0\n",
      "Episode 28 (326s)\tMean: 14.4\tMoving Avg: 9.2\n",
      "Episode 29 (377s)\tMean: 13.5\tMoving Avg: 9.3\n",
      "Episode 30 (392s)\tMean: 16.5\tMoving Avg: 9.6\n",
      "Episode 31 (398s)\tMean: 15.0\tMoving Avg: 9.7\n",
      "Episode 32 (402s)\tMean: 17.3\tMoving Avg: 10.0\n",
      "Episode 33 (411s)\tMean: 18.3\tMoving Avg: 10.2\n",
      "Episode 34 (413s)\tMean: 16.6\tMoving Avg: 10.4\n",
      "Episode 35 (409s)\tMean: 17.7\tMoving Avg: 10.6\n",
      "Episode 36 (369s)\tMean: 18.8\tMoving Avg: 10.9\n",
      "Episode 37 (371s)\tMean: 17.6\tMoving Avg: 11.0\n",
      "Episode 38 (374s)\tMean: 17.4\tMoving Avg: 11.2\n",
      "Episode 39 (379s)\tMean: 16.3\tMoving Avg: 11.3\n",
      "Episode 40 (384s)\tMean: 16.6\tMoving Avg: 11.5\n",
      "Episode 41 (390s)\tMean: 15.8\tMoving Avg: 11.6\n",
      "Episode 42 (396s)\tMean: 19.9\tMoving Avg: 11.8\n",
      "Episode 43 (401s)\tMean: 15.3\tMoving Avg: 11.9\n",
      "Episode 44 (404s)\tMean: 17.8\tMoving Avg: 12.0\n",
      "Episode 45 (412s)\tMean: 17.6\tMoving Avg: 12.1\n",
      "Episode 46 (414s)\tMean: 18.1\tMoving Avg: 12.2\n",
      "Episode 47 (416s)\tMean: 20.6\tMoving Avg: 12.4\n",
      "Episode 48 (413s)\tMean: 19.9\tMoving Avg: 12.6\n",
      "Episode 49 (416s)\tMean: 21.9\tMoving Avg: 12.8\n",
      "Episode 50 (415s)\tMean: 22.6\tMoving Avg: 13.0\n",
      "Episode 51 (420s)\tMean: 24.0\tMoving Avg: 13.2\n",
      "Episode 52 (413s)\tMean: 21.5\tMoving Avg: 13.3\n",
      "Episode 53 (423s)\tMean: 23.3\tMoving Avg: 13.5\n",
      "Episode 54 (437s)\tMean: 23.4\tMoving Avg: 13.7\n",
      "Episode 55 (435s)\tMean: 22.6\tMoving Avg: 13.9\n",
      "Episode 56 (432s)\tMean: 24.9\tMoving Avg: 14.1\n",
      "Episode 57 (434s)\tMean: 25.3\tMoving Avg: 14.3\n",
      "Episode 58 (439s)\tMean: 25.2\tMoving Avg: 14.5\n",
      "Episode 59 (440s)\tMean: 25.2\tMoving Avg: 14.6\n",
      "Episode 60 (440s)\tMean: 26.8\tMoving Avg: 14.8\n",
      "Episode 61 (442s)\tMean: 25.1\tMoving Avg: 15.0\n",
      "Episode 62 (440s)\tMean: 24.8\tMoving Avg: 15.2\n",
      "Episode 63 (439s)\tMean: 24.3\tMoving Avg: 15.3\n",
      "Episode 64 (438s)\tMean: 26.3\tMoving Avg: 15.5\n",
      "Episode 65 (438s)\tMean: 26.8\tMoving Avg: 15.7\n",
      "Episode 66 (438s)\tMean: 27.7\tMoving Avg: 15.8\n",
      "Episode 67 (440s)\tMean: 27.2\tMoving Avg: 16.0\n",
      "Episode 68 (439s)\tMean: 26.4\tMoving Avg: 16.2\n",
      "Episode 69 (441s)\tMean: 28.6\tMoving Avg: 16.3\n",
      "Episode 70 (442s)\tMean: 27.7\tMoving Avg: 16.5\n",
      "Episode 71 (440s)\tMean: 26.0\tMoving Avg: 16.6\n",
      "Episode 72 (438s)\tMean: 28.4\tMoving Avg: 16.8\n",
      "Episode 73 (437s)\tMean: 27.8\tMoving Avg: 17.0\n",
      "Episode 74 (438s)\tMean: 27.6\tMoving Avg: 17.1\n",
      "Episode 75 (438s)\tMean: 28.1\tMoving Avg: 17.2\n",
      "Episode 76 (438s)\tMean: 28.5\tMoving Avg: 17.4\n",
      "Episode 77 (439s)\tMean: 29.3\tMoving Avg: 17.5\n",
      "Episode 78 (439s)\tMean: 28.8\tMoving Avg: 17.7\n",
      "Episode 79 (440s)\tMean: 29.4\tMoving Avg: 17.8\n",
      "Episode 80 (441s)\tMean: 29.9\tMoving Avg: 18.0\n",
      "Episode 81 (441s)\tMean: 29.9\tMoving Avg: 18.1\n",
      "Episode 82 (440s)\tMean: 30.0\tMoving Avg: 18.3\n",
      "Episode 83 (440s)\tMean: 31.2\tMoving Avg: 18.4\n",
      "Episode 84 (441s)\tMean: 32.2\tMoving Avg: 18.6\n",
      "Episode 85 (441s)\tMean: 32.1\tMoving Avg: 18.8\n",
      "Episode 86 (441s)\tMean: 33.5\tMoving Avg: 18.9\n",
      "Episode 87 (441s)\tMean: 33.4\tMoving Avg: 19.1\n",
      "Episode 88 (442s)\tMean: 34.1\tMoving Avg: 19.3\n",
      "Episode 89 (439s)\tMean: 33.8\tMoving Avg: 19.4\n",
      "Episode 90 (440s)\tMean: 34.2\tMoving Avg: 19.6\n",
      "Episode 91 (443s)\tMean: 34.6\tMoving Avg: 19.8\n",
      "Episode 92 (440s)\tMean: 35.7\tMoving Avg: 19.9\n",
      "Episode 93 (440s)\tMean: 35.6\tMoving Avg: 20.1\n",
      "Episode 94 (440s)\tMean: 35.9\tMoving Avg: 20.3\n",
      "Episode 95 (441s)\tMean: 36.0\tMoving Avg: 20.4\n",
      "Episode 96 (442s)\tMean: 36.0\tMoving Avg: 20.6\n",
      "Episode 97 (442s)\tMean: 36.3\tMoving Avg: 20.8\n",
      "Episode 98 (439s)\tMean: 35.5\tMoving Avg: 20.9\n",
      "Episode 99 (442s)\tMean: 34.3\tMoving Avg: 21.0\n",
      "Episode 100 (442s)\tMean: 36.9\tMoving Avg: 21.2\n",
      "Episode 101 (440s)\tMean: 36.7\tMoving Avg: 21.6\n",
      "Episode 102 (442s)\tMean: 37.3\tMoving Avg: 21.9\n",
      "Episode 103 (442s)\tMean: 37.3\tMoving Avg: 22.3\n",
      "Episode 104 (442s)\tMean: 36.5\tMoving Avg: 22.6\n",
      "Episode 105 (441s)\tMean: 37.3\tMoving Avg: 23.0\n",
      "Episode 106 (440s)\tMean: 37.3\tMoving Avg: 23.3\n",
      "Episode 107 (440s)\tMean: 37.6\tMoving Avg: 23.6\n",
      "Episode 108 (437s)\tMean: 37.5\tMoving Avg: 23.9\n",
      "Episode 109 (441s)\tMean: 37.2\tMoving Avg: 24.2\n",
      "Episode 110 (449s)\tMean: 37.5\tMoving Avg: 24.5\n",
      "Episode 111 (456s)\tMean: 37.8\tMoving Avg: 24.8\n"
     ]
    }
   ],
   "source": [
    "from workspace_utils import active_session\n",
    "\n",
    "with active_session():\n",
    "    # run the training loop\n",
    "    agent = Agent(state_size=state_size, action_size=action_size, random_seed=SEED)\n",
    "    scores, avgs = ddpg()\n",
    "\n",
    "# Episode 114 (131s)\tMean: 38.9\tMoving Avg: 30.1\n",
    "# Environment solved in 14 episodes!\tAverage Score: 30.06"
   ]
  },
  {
   "cell_type": "code",
   "execution_count": 15,
   "metadata": {},
   "outputs": [
    {
     "name": "stdout",
     "output_type": "stream",
     "text": [
      "\n",
      "Elapsed Time: 881.51 mins.\n"
     ]
    }
   ],
   "source": [
    "end = time.time()\n",
    "elapsed = (end - start) / 60.0 # in minutes\n",
    "print(\"\\nElapsed Time: {0:3.2f} mins.\".format(elapsed)) # 223.58 mins."
   ]
  },
  {
   "cell_type": "code",
   "execution_count": null,
   "metadata": {},
   "outputs": [],
   "source": [
    "# Save states:\n",
    "\n",
    "torch.save(agent.actor_local.state_dict(), 'checkpoint_actor.pth')\n",
    "torch.save(agent.critic_local.state_dict(), 'checkpoint_critic.pth')"
   ]
  },
  {
   "cell_type": "code",
   "execution_count": 14,
   "metadata": {},
   "outputs": [
    {
     "data": {
      "image/png": "[encoded data removed]",
      "text/plain": [
       "<matplotlib.figure.Figure at 0x7fd734271940>"
      ]
     },
     "metadata": {
      "needs_background": "light"
     },
     "output_type": "display_data"
    }
   ],
   "source": [
    "# plot the scores\n",
    "fig = plt.figure()\n",
    "ax = fig.add_subplot(111)\n",
    "plt.plot(np.arange(len(scores)), scores, label='DDPG')\n",
    "plt.plot(np.arange(len(scores)), avgs, c='r', label='Moving AVG')\n",
    "plt.ylabel('Score')\n",
    "plt.xlabel('Episode #')\n",
    "plt.legend(loc='upper left');\n",
    "plt.show()"
   ]
  },
  {
   "cell_type": "markdown",
   "metadata": {},
   "source": [
    "# End of Successful BASELINE Run!"
   ]
  },
  {
   "cell_type": "code",
   "execution_count": null,
   "metadata": {},
   "outputs": [],
   "source": [
    "env.close()"
   ]
  },
  {
   "cell_type": "markdown",
   "metadata": {},
   "source": [
    "# Watch a smart Agent"
   ]
  },
  {
   "cell_type": "code",
   "execution_count": 9,
   "metadata": {},
   "outputs": [
    {
     "name": "stdout",
     "output_type": "stream",
     "text": [
      "Total score (averaged over agents) this episode: 35.47749920701608\n"
     ]
    }
   ],
   "source": [
    "agent = Agent(state_size=state_size, action_size=action_size, random_seed=SEED)\n",
    "\n",
    "agent.actor_local.load_state_dict(torch.load('checkpoint_actor.pth'))\n",
    "agent.critic_local.load_state_dict(torch.load('checkpoint_critic.pth'))\n",
    "\n",
    "env_info = env.reset(train_mode=False)[brain_name]     # reset the environment    \n",
    "states = env_info.vector_observations                  # get the current state (for each agent)\n",
    "scores = np.zeros(num_agents)                          # initialize the score (for each agent)\n",
    "while True:\n",
    "    actions = agent.act(states, add_noise=False)         # select an action\n",
    "    env_info = env.step(actions)[brain_name]           # send all actions to tne environment\n",
    "    next_states = env_info.vector_observations         # get next state (for each agent)\n",
    "    rewards = env_info.rewards                         # get reward (for each agent)\n",
    "    dones = env_info.local_done                        # see if episode finished\n",
    "    scores += env_info.rewards                         # update the score (for each agent)\n",
    "    states = next_states                               # roll over states to next time step\n",
    "    if np.any(dones):                                  # exit loop if episode finished\n",
    "        break\n",
    "\n",
    "print('Total score (averaged over agents) this episode: {}'.format(np.mean(scores)))\n",
    "        \n",
    "env.close()"
   ]
  },
  {
   "cell_type": "code",
   "execution_count": 5,
   "metadata": {},
   "outputs": [],
   "source": []
  },
  {
   "cell_type": "code",
   "execution_count": null,
   "metadata": {},
   "outputs": [],
   "source": []
  }
 ],
 "metadata": {
  "kernelspec": {
   "display_name": "Python 3",
   "language": "python",
   "name": "python3"
  },
  "language_info": {
   "codemirror_mode": {
    "name": "ipython",
    "version": 3
   },
   "file_extension": ".py",
   "mimetype": "text/x-python",
   "name": "python",
   "nbconvert_exporter": "python",
   "pygments_lexer": "ipython3",
   "version": "3.6.3"
  },
  "toc": {
   "base_numbering": 1,
   "nav_menu": {},
   "number_sections": true,
   "sideBar": true,
   "skip_h1_title": false,
   "title_cell": "Table of Contents",
   "title_sidebar": "Contents",
   "toc_cell": true,
   "toc_position": {},
   "toc_section_display": true,
   "toc_window_display": false
  }
 },
 "nbformat": 4,
 "nbformat_minor": 2
}
